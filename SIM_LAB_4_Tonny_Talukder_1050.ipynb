{
  "cells": [
    {
      "cell_type": "code",
      "source": [
        "import random  # to create random numbers\n",
        "\n",
        "def estimate_pi(num_points):\n",
        "    inside = 0  # how many points inside the circle\n",
        "\n",
        "    for _ in range(num_points):\n",
        "        x = random.random()  # pick a random number from 0 to 1\n",
        "        y = random.random()\n",
        "        if x*x + y*y <= 1:  # Corrected the semicolon to a colon\n",
        "            inside += 1  # it's inside the circle\n",
        "\n",
        "    pi = 4 * inside / num_points\n",
        "    print(\"Estimated pi for\", num_points, \"points is:\", pi)\n",
        "\n",
        "# Try this with different number of points\n",
        "estimate_pi(1000)\n",
        "estimate_pi(5000)\n",
        "estimate_pi(10000)"
      ],
      "metadata": {
        "colab": {
          "base_uri": "https://localhost:8080/"
        },
        "id": "K-NLneHJo4mH",
        "outputId": "0e7d9aea-5d56-4eb6-fe40-726b84488b73"
      },
      "execution_count": 4,
      "outputs": [
        {
          "output_type": "stream",
          "name": "stdout",
          "text": [
            "Estimated pi for 1000 points is: 3.172\n",
            "Estimated pi for 5000 points is: 3.1592\n",
            "Estimated pi for 10000 points is: 3.1572\n"
          ]
        }
      ]
    },
    {
      "cell_type": "code",
      "source": [
        "import random\n",
        "import numpy as np\n",
        "import math\n",
        "\n",
        "# --------------------------\n",
        "# Part 1 — Setup & Personalization\n",
        "# --------------------------\n",
        "\n",
        "student_id = \"1050\"  # Replace with your actual student ID\n",
        "full_name = \"Tonny\"   # Replace with your full name\n",
        "\n",
        "R = int(student_id[-2:])    # Last two digits of student ID\n",
        "radius = R / 10             # Circle radius\n",
        "num_letters = len(full_name.replace(\" \", \"\"))  # Count letters only\n",
        "num_points_base = 200 * num_letters            # Base number of points\n",
        "\n",
        "# --------------------------\n",
        "# Part 2 — Simulation Logic\n",
        "# --------------------------\n",
        "\n",
        "def is_inside_circle(x, y, radius):\n",
        "    \"\"\"Check if a point is inside the circle centered at the origin.\"\"\"\n",
        "    return x**2 + y**2 <= radius**2\n",
        "\n",
        "def estimate_pi(num_points, radius, R):\n",
        "    inside = 0\n",
        "    half_points = num_points // 2\n",
        "\n",
        "    # First half using random.uniform()\n",
        "    for _ in range(half_points):\n",
        "        x = random.uniform(0, R/10)\n",
        "        y = random.uniform(0, R/10)\n",
        "        if is_inside_circle(x, y, radius):\n",
        "            inside += 1\n",
        "\n",
        "    # Second half using numpy.random.rand()\n",
        "    for _ in range(num_points - half_points):\n",
        "        x = np.random.rand() * (R/10)\n",
        "        y = np.random.rand() * (R/10)\n",
        "        if is_inside_circle(x, y, radius):\n",
        "            inside += 1\n",
        "\n",
        "    # Adjusted π estimation for radius ≠ 1\n",
        "    estimated_pi = (inside / num_points) * (4 * ((R/10)**2 / (radius**2)))\n",
        "    error = abs(math.pi - estimated_pi)\n",
        "    return estimated_pi, inside, error\n",
        "\n",
        "# --------------------------\n",
        "# Part 3 — Output & Analysis\n",
        "# --------------------------\n",
        "\n",
        "print(f\"{'Range Used':<12} | {'Total Points':<12} | {'Points Inside':<13} | {'Estimated π':<12} | {'Error':<12}\")\n",
        "print(\"-\"*70)\n",
        "\n",
        "for multiplier in range(1, 6):  # Run simulation 5 times\n",
        "    total_points = num_points_base * multiplier\n",
        "    est_pi, inside_count, error = estimate_pi(total_points, radius, R)\n",
        "    print(f\"{R/10:<12.2f} | {total_points:<12} | {inside_count:<13} | {est_pi:<12.6f} | {error:<12.6f}\")\n"
      ],
      "metadata": {
        "colab": {
          "base_uri": "https://localhost:8080/"
        },
        "id": "L1DVCZOMxfuF",
        "outputId": "2e7ad4a8-7e61-4ffd-9b5f-ee60e3c3f115"
      },
      "execution_count": 7,
      "outputs": [
        {
          "output_type": "stream",
          "name": "stdout",
          "text": [
            "Range Used   | Total Points | Points Inside | Estimated π  | Error       \n",
            "----------------------------------------------------------------------\n",
            "5.00         | 1000         | 792           | 3.168000     | 0.026407    \n",
            "5.00         | 2000         | 1585          | 3.170000     | 0.028407    \n",
            "5.00         | 3000         | 2350          | 3.133333     | 0.008259    \n",
            "5.00         | 4000         | 3134          | 3.134000     | 0.007593    \n",
            "5.00         | 5000         | 3893          | 3.114400     | 0.027193    \n"
          ]
        }
      ]
    }
  ],
  "metadata": {
    "colab": {
      "provenance": []
    },
    "kernelspec": {
      "display_name": "Python 3",
      "name": "python3"
    }
  },
  "nbformat": 4,
  "nbformat_minor": 0
}